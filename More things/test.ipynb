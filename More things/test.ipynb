{
  "cells": [
    {
      "cell_type": "markdown",
      "id": "1b70b34e",
      "metadata": {
        "id": "1b70b34e"
      },
      "source": [
        "##Basic library imports"
      ]
    },
    {
      "cell_type": "code",
      "source": [
        "%pip install easyocr"
      ],
      "metadata": {
        "colab": {
          "base_uri": "https://localhost:8080/"
        },
        "id": "hRt4-we1LcuI",
        "outputId": "a52bebf5-5a14-49f9-b9ae-7c211773d449"
      },
      "id": "hRt4-we1LcuI",
      "execution_count": 1,
      "outputs": [
        {
          "output_type": "stream",
          "name": "stdout",
          "text": [
            "Collecting easyocr\n",
            "  Downloading easyocr-1.7.1-py3-none-any.whl.metadata (11 kB)\n",
            "Requirement already satisfied: torch in /usr/local/lib/python3.10/dist-packages (from easyocr) (2.4.0+cu121)\n",
            "Requirement already satisfied: torchvision>=0.5 in /usr/local/lib/python3.10/dist-packages (from easyocr) (0.19.0+cu121)\n",
            "Requirement already satisfied: opencv-python-headless in /usr/local/lib/python3.10/dist-packages (from easyocr) (4.10.0.84)\n",
            "Requirement already satisfied: scipy in /usr/local/lib/python3.10/dist-packages (from easyocr) (1.13.1)\n",
            "Requirement already satisfied: numpy in /usr/local/lib/python3.10/dist-packages (from easyocr) (1.26.4)\n",
            "Requirement already satisfied: Pillow in /usr/local/lib/python3.10/dist-packages (from easyocr) (9.4.0)\n",
            "Requirement already satisfied: scikit-image in /usr/local/lib/python3.10/dist-packages (from easyocr) (0.23.2)\n",
            "Collecting python-bidi (from easyocr)\n",
            "  Downloading python_bidi-0.6.0-cp310-cp310-manylinux_2_17_x86_64.manylinux2014_x86_64.whl.metadata (4.6 kB)\n",
            "Requirement already satisfied: PyYAML in /usr/local/lib/python3.10/dist-packages (from easyocr) (6.0.2)\n",
            "Requirement already satisfied: Shapely in /usr/local/lib/python3.10/dist-packages (from easyocr) (2.0.6)\n",
            "Collecting pyclipper (from easyocr)\n",
            "  Downloading pyclipper-1.3.0.post5-cp310-cp310-manylinux_2_12_x86_64.manylinux2010_x86_64.whl.metadata (9.0 kB)\n",
            "Collecting ninja (from easyocr)\n",
            "  Downloading ninja-1.11.1.1-py2.py3-none-manylinux1_x86_64.manylinux_2_5_x86_64.whl.metadata (5.3 kB)\n",
            "Requirement already satisfied: filelock in /usr/local/lib/python3.10/dist-packages (from torch->easyocr) (3.16.0)\n",
            "Requirement already satisfied: typing-extensions>=4.8.0 in /usr/local/lib/python3.10/dist-packages (from torch->easyocr) (4.12.2)\n",
            "Requirement already satisfied: sympy in /usr/local/lib/python3.10/dist-packages (from torch->easyocr) (1.13.2)\n",
            "Requirement already satisfied: networkx in /usr/local/lib/python3.10/dist-packages (from torch->easyocr) (3.3)\n",
            "Requirement already satisfied: jinja2 in /usr/local/lib/python3.10/dist-packages (from torch->easyocr) (3.1.4)\n",
            "Requirement already satisfied: fsspec in /usr/local/lib/python3.10/dist-packages (from torch->easyocr) (2024.6.1)\n",
            "Requirement already satisfied: imageio>=2.33 in /usr/local/lib/python3.10/dist-packages (from scikit-image->easyocr) (2.34.2)\n",
            "Requirement already satisfied: tifffile>=2022.8.12 in /usr/local/lib/python3.10/dist-packages (from scikit-image->easyocr) (2024.8.30)\n",
            "Requirement already satisfied: packaging>=21 in /usr/local/lib/python3.10/dist-packages (from scikit-image->easyocr) (24.1)\n",
            "Requirement already satisfied: lazy-loader>=0.4 in /usr/local/lib/python3.10/dist-packages (from scikit-image->easyocr) (0.4)\n",
            "Requirement already satisfied: MarkupSafe>=2.0 in /usr/local/lib/python3.10/dist-packages (from jinja2->torch->easyocr) (2.1.5)\n",
            "Requirement already satisfied: mpmath<1.4,>=1.1.0 in /usr/local/lib/python3.10/dist-packages (from sympy->torch->easyocr) (1.3.0)\n",
            "Downloading easyocr-1.7.1-py3-none-any.whl (2.9 MB)\n",
            "\u001b[2K   \u001b[90m━━━━━━━━━━━━━━━━━━━━━━━━━━━━━━━━━━━━━━━━\u001b[0m \u001b[32m2.9/2.9 MB\u001b[0m \u001b[31m28.4 MB/s\u001b[0m eta \u001b[36m0:00:00\u001b[0m\n",
            "\u001b[?25hDownloading ninja-1.11.1.1-py2.py3-none-manylinux1_x86_64.manylinux_2_5_x86_64.whl (307 kB)\n",
            "\u001b[2K   \u001b[90m━━━━━━━━━━━━━━━━━━━━━━━━━━━━━━━━━━━━━━━━\u001b[0m \u001b[32m307.2/307.2 kB\u001b[0m \u001b[31m20.1 MB/s\u001b[0m eta \u001b[36m0:00:00\u001b[0m\n",
            "\u001b[?25hDownloading pyclipper-1.3.0.post5-cp310-cp310-manylinux_2_12_x86_64.manylinux2010_x86_64.whl (908 kB)\n",
            "\u001b[2K   \u001b[90m━━━━━━━━━━━━━━━━━━━━━━━━━━━━━━━━━━━━━━━━\u001b[0m \u001b[32m908.3/908.3 kB\u001b[0m \u001b[31m42.9 MB/s\u001b[0m eta \u001b[36m0:00:00\u001b[0m\n",
            "\u001b[?25hDownloading python_bidi-0.6.0-cp310-cp310-manylinux_2_17_x86_64.manylinux2014_x86_64.whl (281 kB)\n",
            "\u001b[2K   \u001b[90m━━━━━━━━━━━━━━━━━━━━━━━━━━━━━━━━━━━━━━━━\u001b[0m \u001b[32m281.3/281.3 kB\u001b[0m \u001b[31m15.0 MB/s\u001b[0m eta \u001b[36m0:00:00\u001b[0m\n",
            "\u001b[?25hInstalling collected packages: python-bidi, pyclipper, ninja, easyocr\n",
            "Successfully installed easyocr-1.7.1 ninja-1.11.1.1 pyclipper-1.3.0.post5 python-bidi-0.6.0\n"
          ]
        }
      ]
    },
    {
      "cell_type": "code",
      "execution_count": 3,
      "id": "719d15af",
      "metadata": {
        "id": "719d15af"
      },
      "outputs": [],
      "source": [
        "import os\n",
        "import pandas as pd\n",
        "import easyocr\n",
        "import matplotlib.pyplot as plt\n",
        "import cv2\n",
        "import numpy as np\n",
        "import csv\n",
        "os.mkdir('./dataset')"
      ]
    },
    {
      "cell_type": "markdown",
      "id": "b8911e33",
      "metadata": {
        "id": "b8911e33"
      },
      "source": [
        "### Read Dataset"
      ]
    },
    {
      "cell_type": "code",
      "execution_count": 4,
      "id": "d3136aac",
      "metadata": {
        "id": "d3136aac"
      },
      "outputs": [],
      "source": [
        "DATASET_FOLDER = './dataset/'\n",
        "train = pd.read_csv(os.path.join(DATASET_FOLDER, 'train.csv'))\n",
        "#test = pd.read_csv(os.path.join(DATASET_FOLDER, 'test.csv'))\n",
        "#sample_test = pd.read_csv(os.path.join(DATASET_FOLDER, 'sample_test.csv'))\n",
        "#sample_test_out = pd.read_csv(os.path.join(DATASET_FOLDER, 'sample_test_out.csv'))"
      ]
    },
    {
      "cell_type": "markdown",
      "id": "60ebd689",
      "metadata": {
        "id": "60ebd689"
      },
      "source": [
        "### Run Sanity check using src/sanity.py"
      ]
    },
    {
      "cell_type": "code",
      "execution_count": 5,
      "id": "81bb3988",
      "metadata": {
        "id": "81bb3988"
      },
      "outputs": [],
      "source": [
        "#!python3 sanity.py --test_filename ../dataset/sample_test.csv --output_filename ../dataset/sample_test_out.csv"
      ]
    },
    {
      "cell_type": "code",
      "execution_count": 6,
      "id": "5aa79459",
      "metadata": {
        "id": "5aa79459"
      },
      "outputs": [],
      "source": [
        "#!python3 sanity.py --test_filename ../dataset/sample_test.csv --output_filename ../dataset/sample_test_out_fail.csv"
      ]
    },
    {
      "cell_type": "code",
      "execution_count": 7,
      "id": "48be6408",
      "metadata": {
        "id": "48be6408"
      },
      "outputs": [],
      "source": [
        "def load_image(image_path):\n",
        "    return cv2.imread(image_path)\n",
        "\n",
        "# Function to perform OCR and display results\n",
        "def perform_ocr(image_path):\n",
        "    # Initialize the EasyOCR reader\n",
        "    reader = easyocr.Reader(['en'])  # 'en' for English\n",
        "\n",
        "    # Read the image\n",
        "    image = load_image(image_path)\n",
        "    image_rgb = cv2.cvtColor(image, cv2.COLOR_BGR2RGB)\n",
        "\n",
        "    # Perform OCR\n",
        "    results = reader.readtext(image_rgb)\n",
        "\n",
        "    # Create a copy of the image for drawing\n",
        "    output_image = image_rgb.copy()\n",
        "\n",
        "    #Plot the results\n",
        "    # for (bbox, text, prob) in results:\n",
        "    #     # Unpack the bounding box\n",
        "    #     (tl, tr, br, bl) = bbox\n",
        "    #     tl = (int(tl[0]), int(tl[1]))\n",
        "    #     br = (int(br[0]), int(br[1]))\n",
        "\n",
        "    #     # Draw the bounding box and text\n",
        "    #     cv2.rectangle(output_image, tl, br, (0, 255, 0), 2)\n",
        "    #     cv2.putText(output_image, text, (tl[0], tl[1] - 10), cv2.FONT_HERSHEY_SIMPLEX, 0.8, (0, 255, 0), 2)\n",
        "\n",
        "    # # Display the image with bounding boxes\n",
        "    # plt.figure(figsize=(20,20))\n",
        "    # plt.imshow(output_image)\n",
        "    # plt.axis('off')\n",
        "    # plt.show()\n",
        "\n",
        "    # Print the extracted text\n",
        "    #print(\"Extracted Text:\")\n",
        "    test1=[]\n",
        "    for (bbox, text, prob) in results:\n",
        "        #print(f\"{text} (Confidence: {prob:.2f})\")\n",
        "        test1.append(text)\n",
        "\n",
        "    # Function to extract specific information (example for weight and voltage)\n",
        "    def extract_info(results):\n",
        "        info = {'weight': None, 'voltage': None}\n",
        "        for (bbox, text, prob) in results:\n",
        "            if 'g' in text.lower() or 'kg' in text.lower():\n",
        "                info['weight'] = text\n",
        "            elif 'v' in text.lower():\n",
        "                info['voltage'] = text\n",
        "        return info\n",
        "\n",
        "    # Extract and print specific information\n",
        "    # extracted_info = extract_info(results)\n",
        "    # print(\"\\nExtracted Information:\")\n",
        "    # print(f\"Weight: {extracted_info['weight']}\")\n",
        "    # print(f\"Voltage: {extracted_info['voltage']}\")\n",
        "    return test1"
      ]
    },
    {
      "cell_type": "markdown",
      "id": "dbe930a8",
      "metadata": {
        "id": "dbe930a8"
      },
      "source": [
        "### Download images"
      ]
    },
    {
      "cell_type": "code",
      "execution_count": 8,
      "id": "055434ce",
      "metadata": {
        "colab": {
          "base_uri": "https://localhost:8080/",
          "height": 198
        },
        "id": "055434ce",
        "outputId": "cc36526a-23f2-4113-b3fb-abe1a7e2b4f6"
      },
      "outputs": [
        {
          "output_type": "error",
          "ename": "FileNotFoundError",
          "evalue": "[Errno 2] No such file or directory: '../images'",
          "traceback": [
            "\u001b[0;31m---------------------------------------------------------------------------\u001b[0m",
            "\u001b[0;31mFileNotFoundError\u001b[0m                         Traceback (most recent call last)",
            "\u001b[0;32m<ipython-input-8-7e9ea91900b1>\u001b[0m in \u001b[0;36m<cell line: 1>\u001b[0;34m()\u001b[0m\n\u001b[0;32m----> 1\u001b[0;31m \u001b[0mpaths\u001b[0m\u001b[0;34m=\u001b[0m\u001b[0mos\u001b[0m\u001b[0;34m.\u001b[0m\u001b[0mlistdir\u001b[0m\u001b[0;34m(\u001b[0m\u001b[0;34m'../images'\u001b[0m\u001b[0;34m)\u001b[0m\u001b[0;34m\u001b[0m\u001b[0;34m\u001b[0m\u001b[0m\n\u001b[0m\u001b[1;32m      2\u001b[0m \u001b[0mpaths\u001b[0m\u001b[0;34m\u001b[0m\u001b[0;34m\u001b[0m\u001b[0m\n",
            "\u001b[0;31mFileNotFoundError\u001b[0m: [Errno 2] No such file or directory: '../images'"
          ]
        }
      ],
      "source": [
        "\n",
        "paths=os.listdir('../images')\n",
        "paths"
      ]
    },
    {
      "cell_type": "code",
      "source": [],
      "metadata": {
        "id": "eQlJLjgP3Fz4"
      },
      "id": "eQlJLjgP3Fz4",
      "execution_count": null,
      "outputs": []
    },
    {
      "cell_type": "code",
      "source": [],
      "metadata": {
        "id": "tbfQ0QTe5faQ"
      },
      "id": "tbfQ0QTe5faQ",
      "execution_count": null,
      "outputs": []
    },
    {
      "cell_type": "code",
      "source": [
        "pwd()"
      ],
      "metadata": {
        "colab": {
          "base_uri": "https://localhost:8080/",
          "height": 35
        },
        "id": "BdrOXPm23OGV",
        "outputId": "43041973-11c9-4530-dec8-d7624dd3b5ff"
      },
      "id": "BdrOXPm23OGV",
      "execution_count": 9,
      "outputs": [
        {
          "output_type": "execute_result",
          "data": {
            "text/plain": [
              "'/content'"
            ],
            "application/vnd.google.colaboratory.intrinsic+json": {
              "type": "string"
            }
          },
          "metadata": {},
          "execution_count": 9
        }
      ]
    },
    {
      "cell_type": "code",
      "execution_count": null,
      "id": "9bd01027",
      "metadata": {
        "colab": {
          "base_uri": "https://localhost:8080/"
        },
        "id": "9bd01027",
        "outputId": "bd118777-8107-447e-e7f6-be02ca280133"
      },
      "outputs": [
        {
          "output_type": "stream",
          "name": "stderr",
          "text": [
            "WARNING:easyocr.easyocr:Neither CUDA nor MPS are available - defaulting to CPU. Note: This module is much faster with a GPU.\n"
          ]
        },
        {
          "output_type": "stream",
          "name": "stdout",
          "text": [
            "./images/51z4RmV6nrL.jpg\n"
          ]
        },
        {
          "output_type": "stream",
          "name": "stderr",
          "text": [
            "WARNING:easyocr.easyocr:Neither CUDA nor MPS are available - defaulting to CPU. Note: This module is much faster with a GPU.\n"
          ]
        },
        {
          "output_type": "stream",
          "name": "stdout",
          "text": [
            "./images/61BVtiD9AXL.jpg\n"
          ]
        },
        {
          "output_type": "stream",
          "name": "stderr",
          "text": [
            "WARNING:easyocr.easyocr:Neither CUDA nor MPS are available - defaulting to CPU. Note: This module is much faster with a GPU.\n"
          ]
        },
        {
          "output_type": "stream",
          "name": "stdout",
          "text": [
            "./images/514XI-VM2RL.jpg\n"
          ]
        },
        {
          "output_type": "stream",
          "name": "stderr",
          "text": [
            "WARNING:easyocr.easyocr:Neither CUDA nor MPS are available - defaulting to CPU. Note: This module is much faster with a GPU.\n"
          ]
        },
        {
          "output_type": "stream",
          "name": "stdout",
          "text": [
            "./images/51vQ83znjGL.jpg\n"
          ]
        }
      ],
      "source": [
        "from utils import download_image\n",
        "a=0\n",
        "os.mkdir('./images')\n",
        "\n",
        "for index,row in train.iterrows():\n",
        "    imgpath=download_image(row['image_link'], save_folder='./images')\n",
        "    s=row['entity_value'] + row['entity_name']\n",
        "    with open(\"new.txt\", mode='a',encoding='utf-8') as ft1:\n",
        "          ft1.write(s+'\\n')\n",
        "    print(imgpath)\n",
        "    extr=perform_ocr(imgpath)\n",
        "    os.remove(imgpath)\n",
        "    s = str(extr)\n",
        "    with open(\"new1.txt\", mode='a',encoding='utf-8') as ft:\n",
        "          ft.write(s+'\\n')\n",
        "\n",
        "    a+=1\n",
        "    if a==1000:\n",
        "        break"
      ]
    },
    {
      "cell_type": "code",
      "source": [
        "print(imgpath)"
      ],
      "metadata": {
        "colab": {
          "base_uri": "https://localhost:8080/"
        },
        "id": "Uj2J5OAlQbg8",
        "outputId": "93da1b05-d307-430e-c0d9-d1c061695770"
      },
      "id": "Uj2J5OAlQbg8",
      "execution_count": 11,
      "outputs": [
        {
          "output_type": "stream",
          "name": "stdout",
          "text": [
            "./images/51z4RmV6nrL.jpg\n"
          ]
        }
      ]
    },
    {
      "cell_type": "code",
      "execution_count": null,
      "id": "a3d1aad8",
      "metadata": {
        "id": "a3d1aad8"
      },
      "outputs": [],
      "source": [
        "# import gc\n",
        "\n",
        "# paths=os.listdir('./images')\n",
        "# for imgpath1 in paths:\n",
        "\n",
        "#     imgpath = os.path.join('./images', imgpath1)\n",
        "#     if imgpath.endswith('.jpg'):\n",
        "#         print(imgpath)\n",
        "#         extr=perform_ocr(imgpath)\n",
        "#         os.remove(imgpath)\n",
        "#         s = str(extr)\n",
        "#         with open(\"new.txt\", mode='a',encoding='utf-8') as ft:\n",
        "#             ft.write(s+'\\n')\n",
        "#     else :\n",
        "#         pass\n",
        "\n",
        "#     gc.collect()\n",
        "#     # a+=1\n",
        "#     # print(a)\n",
        "#     # if a==100:\n",
        "#     #     break\n"
      ]
    },
    {
      "cell_type": "code",
      "execution_count": null,
      "id": "89aaba53",
      "metadata": {
        "id": "89aaba53"
      },
      "outputs": [],
      "source": [
        "len(os.listdir('../images'))"
      ]
    },
    {
      "cell_type": "code",
      "execution_count": null,
      "id": "1ba3d802",
      "metadata": {
        "id": "1ba3d802"
      },
      "outputs": [],
      "source": [
        "#rm -rf ../images"
      ]
    },
    {
      "cell_type": "code",
      "execution_count": null,
      "id": "08d45ed1",
      "metadata": {
        "id": "08d45ed1"
      },
      "outputs": [],
      "source": [
        "gc.collect()"
      ]
    },
    {
      "cell_type": "code",
      "execution_count": null,
      "id": "a888c750",
      "metadata": {
        "id": "a888c750"
      },
      "outputs": [],
      "source": []
    }
  ],
  "metadata": {
    "kernelspec": {
      "display_name": "Python 3",
      "name": "python3"
    },
    "language_info": {
      "codemirror_mode": {
        "name": "ipython",
        "version": 3
      },
      "file_extension": ".py",
      "mimetype": "text/x-python",
      "name": "python",
      "nbconvert_exporter": "python",
      "pygments_lexer": "ipython3",
      "version": "3.12.0"
    },
    "colab": {
      "provenance": [],
      "gpuType": "T4"
    },
    "accelerator": "GPU"
  },
  "nbformat": 4,
  "nbformat_minor": 5
}