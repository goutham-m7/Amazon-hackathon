{
 "cells": [
  {
   "cell_type": "markdown",
   "id": "1b70b34e",
   "metadata": {},
   "source": [
    "##Basic library imports"
   ]
  },
  {
   "cell_type": "code",
   "execution_count": 1,
   "id": "719d15af",
   "metadata": {},
   "outputs": [
    {
     "name": "stderr",
     "output_type": "stream",
     "text": [
      "/var/folders/cj/xnpfwb8d5z5brdf18x8jh16r0000gn/T/ipykernel_72996/4275336216.py:2: DeprecationWarning: \n",
      "Pyarrow will become a required dependency of pandas in the next major release of pandas (pandas 3.0),\n",
      "(to allow more performant data types, such as the Arrow string type, and better interoperability with other libraries)\n",
      "but was not found to be installed on your system.\n",
      "If this would cause problems for you,\n",
      "please provide us feedback at https://github.com/pandas-dev/pandas/issues/54466\n",
      "        \n",
      "  import pandas as pd\n"
     ]
    }
   ],
   "source": [
    "import os\n",
    "import pandas as pd\n",
    "import easyocr\n",
    "import matplotlib.pyplot as plt\n",
    "import cv2\n",
    "import numpy as np\n",
    "import csv"
   ]
  },
  {
   "cell_type": "markdown",
   "id": "b8911e33",
   "metadata": {},
   "source": [
    "### Read Dataset"
   ]
  },
  {
   "cell_type": "code",
   "execution_count": 2,
   "id": "d3136aac",
   "metadata": {},
   "outputs": [],
   "source": [
    "DATASET_FOLDER = '../dataset/'\n",
    "train = pd.read_csv(os.path.join(DATASET_FOLDER, 'train.csv'))\n",
    "test = pd.read_csv(os.path.join(DATASET_FOLDER, 'test.csv'))\n",
    "sample_test = pd.read_csv(os.path.join(DATASET_FOLDER, 'sample_test.csv'))\n",
    "sample_test_out = pd.read_csv(os.path.join(DATASET_FOLDER, 'sample_test_out.csv'))"
   ]
  },
  {
   "cell_type": "markdown",
   "id": "60ebd689",
   "metadata": {},
   "source": [
    "### Run Sanity check using src/sanity.py"
   ]
  },
  {
   "cell_type": "code",
   "execution_count": 3,
   "id": "81bb3988",
   "metadata": {},
   "outputs": [
    {
     "name": "stdout",
     "output_type": "stream",
     "text": [
      "/Users/goutham/Documents/GitHub/Amazon-hackathon/src/sanity.py:1: DeprecationWarning: \n",
      "Pyarrow will become a required dependency of pandas in the next major release of pandas (pandas 3.0),\n",
      "(to allow more performant data types, such as the Arrow string type, and better interoperability with other libraries)\n",
      "but was not found to be installed on your system.\n",
      "If this would cause problems for you,\n",
      "please provide us feedback at https://github.com/pandas-dev/pandas/issues/54466\n",
      "        \n",
      "  import pandas as pd\n",
      "Parsing successfull for file: ../dataset/sample_test_out.csv\n"
     ]
    }
   ],
   "source": [
    "!python3 sanity.py --test_filename ../dataset/sample_test.csv --output_filename ../dataset/sample_test_out.csv"
   ]
  },
  {
   "cell_type": "code",
   "execution_count": 4,
   "id": "5aa79459",
   "metadata": {},
   "outputs": [
    {
     "name": "stdout",
     "output_type": "stream",
     "text": [
      "/Users/goutham/Documents/GitHub/Amazon-hackathon/src/sanity.py:1: DeprecationWarning: \n",
      "Pyarrow will become a required dependency of pandas in the next major release of pandas (pandas 3.0),\n",
      "(to allow more performant data types, such as the Arrow string type, and better interoperability with other libraries)\n",
      "but was not found to be installed on your system.\n",
      "If this would cause problems for you,\n",
      "please provide us feedback at https://github.com/pandas-dev/pandas/issues/54466\n",
      "        \n",
      "  import pandas as pd\n",
      "Error: Invalid unit [lbs] found in 6.75 lbs. Allowed units: {'imperial gallon', 'watt', 'cubic foot', 'centilitre', 'ounce', 'gram', 'millivolt', 'foot', 'inch', 'pint', 'cup', 'volt', 'centimetre', 'millilitre', 'milligram', 'microgram', 'kilovolt', 'yard', 'kilowatt', 'kilogram', 'ton', 'cubic inch', 'microlitre', 'pound', 'litre', 'millimetre', 'fluid ounce', 'decilitre', 'gallon', 'quart', 'metre'}\n"
     ]
    }
   ],
   "source": [
    "!python3 sanity.py --test_filename ../dataset/sample_test.csv --output_filename ../dataset/sample_test_out_fail.csv"
   ]
  },
  {
   "cell_type": "code",
   "execution_count": 6,
   "id": "48be6408",
   "metadata": {},
   "outputs": [],
   "source": [
    "def load_image(image_path):\n",
    "    return cv2.imread(image_path)\n",
    "\n",
    "# Function to perform OCR and display results\n",
    "def perform_ocr(image_path):\n",
    "    # Initialize the EasyOCR reader\n",
    "    reader = easyocr.Reader(['en'])  # 'en' for English\n",
    "\n",
    "    # Read the image\n",
    "    image = load_image(image_path)\n",
    "    image_rgb = cv2.cvtColor(image, cv2.COLOR_BGR2RGB)\n",
    "\n",
    "    # Perform OCR\n",
    "    results = reader.readtext(image_rgb)\n",
    "\n",
    "    # Create a copy of the image for drawing\n",
    "    output_image = image_rgb.copy()\n",
    "\n",
    "    #Plot the results\n",
    "    # for (bbox, text, prob) in results:\n",
    "    #     # Unpack the bounding box\n",
    "    #     (tl, tr, br, bl) = bbox\n",
    "    #     tl = (int(tl[0]), int(tl[1]))\n",
    "    #     br = (int(br[0]), int(br[1]))\n",
    "\n",
    "    #     # Draw the bounding box and text\n",
    "    #     cv2.rectangle(output_image, tl, br, (0, 255, 0), 2)\n",
    "    #     cv2.putText(output_image, text, (tl[0], tl[1] - 10), cv2.FONT_HERSHEY_SIMPLEX, 0.8, (0, 255, 0), 2)\n",
    "\n",
    "    # # Display the image with bounding boxes\n",
    "    # plt.figure(figsize=(20,20))\n",
    "    # plt.imshow(output_image)\n",
    "    # plt.axis('off')\n",
    "    # plt.show()\n",
    "\n",
    "    # Print the extracted text\n",
    "    print(\"Extracted Text:\")\n",
    "    test1=[]\n",
    "    for (bbox, text, prob) in results:\n",
    "        #print(f\"{text} (Confidence: {prob:.2f})\")\n",
    "        test1.append(text)\n",
    "\n",
    "    # Function to extract specific information (example for weight and voltage)\n",
    "    def extract_info(results):\n",
    "        info = {'weight': None, 'voltage': None}\n",
    "        for (bbox, text, prob) in results:\n",
    "            if 'g' in text.lower() or 'kg' in text.lower():\n",
    "                info['weight'] = text\n",
    "            elif 'v' in text.lower():\n",
    "                info['voltage'] = text\n",
    "        return info\n",
    "\n",
    "    # Extract and print specific information\n",
    "    # extracted_info = extract_info(results)\n",
    "    # print(\"\\nExtracted Information:\")\n",
    "    # print(f\"Weight: {extracted_info['weight']}\")\n",
    "    # print(f\"Voltage: {extracted_info['voltage']}\")\n",
    "    return test1"
   ]
  },
  {
   "cell_type": "markdown",
   "id": "dbe930a8",
   "metadata": {},
   "source": [
    "### Download images"
   ]
  },
  {
   "cell_type": "code",
   "execution_count": 7,
   "id": "055434ce",
   "metadata": {},
   "outputs": [
    {
     "data": {
      "text/plain": [
       "['.DS_Store',\n",
       " '81x77l2T5NL.jpg',\n",
       " '61HXgujoxpL.jpg',\n",
       " '81lgxfKqUUL.jpg',\n",
       " '81N73b5khVL.jpg',\n",
       " '715vVcWJxGL.jpg',\n",
       " '71IUuTJ8QwL.jpg',\n",
       " '71sWRp1SNwL.jpg',\n",
       " '61d6Kj80QSL.jpg',\n",
       " '61WFh8RCQYL.jpg',\n",
       " '61Dq3LRei9L.jpg',\n",
       " '81e2YtCOKvL.jpg',\n",
       " '817vo3DcCNL.jpg',\n",
       " '811VfR10yxL.jpg',\n",
       " '61sx0ezNNLL.jpg',\n",
       " '613BeFNwHcL.jpg',\n",
       " '61cMeogK8gL.jpg',\n",
       " '613v+2W4UwL.jpg',\n",
       " '41EjbFu-+yL.jpg',\n",
       " '91Cma3RzseL.jpg',\n",
       " '61eOO5IW4NL.jpg',\n",
       " '71jBLhmTNlL.jpg']"
      ]
     },
     "execution_count": 7,
     "metadata": {},
     "output_type": "execute_result"
    }
   ],
   "source": [
    "\n",
    "paths=os.listdir('../images')\n",
    "paths"
   ]
  },
  {
   "cell_type": "code",
   "execution_count": 9,
   "id": "9bd01027",
   "metadata": {},
   "outputs": [],
   "source": [
    "from utils import download_image\n",
    "a=0\n",
    "\n",
    "for index,row in train.iterrows():\n",
    "    imgpath=download_image(row['image_link'], save_folder='../images')\n",
    "    s=row['entity_value']\n",
    "    with open(\"new1.txt\", mode='a',encoding='utf-8') as ft:\n",
    "            ft.write(s+'\\n')\n",
    "    a+=1\n",
    "    if a==100:\n",
    "        break"
   ]
  },
  {
   "cell_type": "code",
   "execution_count": 8,
   "id": "a3d1aad8",
   "metadata": {},
   "outputs": [
    {
     "name": "stdout",
     "output_type": "stream",
     "text": [
      "../images/81x77l2T5NL.jpg\n"
     ]
    },
    {
     "name": "stderr",
     "output_type": "stream",
     "text": [
      "/Library/Frameworks/Python.framework/Versions/3.12/lib/python3.12/site-packages/easyocr/detection.py:85: FutureWarning: You are using `torch.load` with `weights_only=False` (the current default value), which uses the default pickle module implicitly. It is possible to construct malicious pickle data which will execute arbitrary code during unpickling (See https://github.com/pytorch/pytorch/blob/main/SECURITY.md#untrusted-models for more details). In a future release, the default value for `weights_only` will be flipped to `True`. This limits the functions that could be executed during unpickling. Arbitrary objects will no longer be allowed to be loaded via this mode unless they are explicitly allowlisted by the user via `torch.serialization.add_safe_globals`. We recommend you start setting `weights_only=True` for any use case where you don't have full control of the loaded file. Please open an issue on GitHub for any issues related to this experimental feature.\n",
      "  net.load_state_dict(copyStateDict(torch.load(trained_model, map_location=device)))\n",
      "/Library/Frameworks/Python.framework/Versions/3.12/lib/python3.12/site-packages/easyocr/recognition.py:182: FutureWarning: You are using `torch.load` with `weights_only=False` (the current default value), which uses the default pickle module implicitly. It is possible to construct malicious pickle data which will execute arbitrary code during unpickling (See https://github.com/pytorch/pytorch/blob/main/SECURITY.md#untrusted-models for more details). In a future release, the default value for `weights_only` will be flipped to `True`. This limits the functions that could be executed during unpickling. Arbitrary objects will no longer be allowed to be loaded via this mode unless they are explicitly allowlisted by the user via `torch.serialization.add_safe_globals`. We recommend you start setting `weights_only=True` for any use case where you don't have full control of the loaded file. Please open an issue on GitHub for any issues related to this experimental feature.\n",
      "  model.load_state_dict(torch.load(model_path, map_location=device))\n"
     ]
    },
    {
     "name": "stdout",
     "output_type": "stream",
     "text": [
      "Extracted Text:\n",
      "../images/61HXgujoxpL.jpg\n",
      "Extracted Text:\n",
      "../images/81lgxfKqUUL.jpg\n",
      "Extracted Text:\n",
      "../images/81N73b5khVL.jpg\n",
      "Extracted Text:\n",
      "../images/715vVcWJxGL.jpg\n",
      "Extracted Text:\n",
      "../images/71IUuTJ8QwL.jpg\n",
      "Extracted Text:\n",
      "../images/71sWRp1SNwL.jpg\n",
      "Extracted Text:\n",
      "../images/61d6Kj80QSL.jpg\n",
      "Extracted Text:\n",
      "../images/61WFh8RCQYL.jpg\n",
      "Extracted Text:\n",
      "../images/61Dq3LRei9L.jpg\n",
      "Extracted Text:\n",
      "../images/81e2YtCOKvL.jpg\n",
      "Extracted Text:\n",
      "../images/817vo3DcCNL.jpg\n",
      "Extracted Text:\n",
      "../images/811VfR10yxL.jpg\n",
      "Extracted Text:\n",
      "../images/61sx0ezNNLL.jpg\n",
      "Extracted Text:\n",
      "../images/613BeFNwHcL.jpg\n",
      "Extracted Text:\n",
      "../images/61cMeogK8gL.jpg\n",
      "Extracted Text:\n",
      "../images/613v+2W4UwL.jpg\n",
      "Extracted Text:\n",
      "../images/41EjbFu-+yL.jpg\n",
      "Extracted Text:\n",
      "../images/91Cma3RzseL.jpg\n",
      "Extracted Text:\n",
      "../images/61eOO5IW4NL.jpg\n",
      "Extracted Text:\n",
      "../images/71jBLhmTNlL.jpg\n",
      "Extracted Text:\n"
     ]
    }
   ],
   "source": [
    "import gc\n",
    "\n",
    "paths=os.listdir('../images')\n",
    "for imgpath1 in paths:\n",
    "    \n",
    "    imgpath = os.path.join('../images', imgpath1)\n",
    "    if imgpath.endswith('.jpg'):\n",
    "        print(imgpath)\n",
    "        extr=perform_ocr(imgpath)\n",
    "        os.remove(imgpath)\n",
    "        s = str(extr)\n",
    "        with open(\"new.txt\", mode='a',encoding='utf-8') as ft:\n",
    "            ft.write(s+'\\n')\n",
    "    else :\n",
    "        pass\n",
    "\n",
    "    gc.collect()\n",
    "    # a+=1\n",
    "    # print(a)\n",
    "    # if a==100:\n",
    "    #     break    \n"
   ]
  },
  {
   "cell_type": "code",
   "execution_count": 10,
   "id": "89aaba53",
   "metadata": {},
   "outputs": [],
   "source": [
    "assert len(os.listdir('../images')) > 0"
   ]
  },
  {
   "cell_type": "code",
   "execution_count": 11,
   "id": "1ba3d802",
   "metadata": {},
   "outputs": [],
   "source": [
    "#rm -rf ../images"
   ]
  },
  {
   "cell_type": "code",
   "execution_count": null,
   "id": "08d45ed1",
   "metadata": {},
   "outputs": [],
   "source": [
    "gc.collect()"
   ]
  },
  {
   "cell_type": "code",
   "execution_count": null,
   "id": "a888c750",
   "metadata": {},
   "outputs": [],
   "source": []
  }
 ],
 "metadata": {
  "kernelspec": {
   "display_name": "Python 3",
   "language": "python",
   "name": "python3"
  },
  "language_info": {
   "codemirror_mode": {
    "name": "ipython",
    "version": 3
   },
   "file_extension": ".py",
   "mimetype": "text/x-python",
   "name": "python",
   "nbconvert_exporter": "python",
   "pygments_lexer": "ipython3",
   "version": "3.12.0"
  }
 },
 "nbformat": 4,
 "nbformat_minor": 5
}
