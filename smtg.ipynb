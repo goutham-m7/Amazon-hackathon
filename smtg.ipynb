{
 "cells": [
  {
   "cell_type": "code",
   "execution_count": 15,
   "metadata": {},
   "outputs": [
    {
     "name": "stdout",
     "output_type": "stream",
     "text": [
      "Single Word: PROPOS'NATUREJINGREDIENTMENAGERMULTI-USAGETERREdESOMMIERES400%NATURELArgile10036pureetnaturelleLerreSommierespresertedesproprietesabsorbantesquipermettentnelloyagesecdeslachesrecalcitrantesSurtouteslessurfaces(moquette;tapis;parquel_-Elleestaussiefficacedesodoriserlinge:IngredientBentoniteDosageconseilleSclonusage.S[0anLunponpacelcetl{I0tinunei4WzouulRtiufos;Lnfonr00%@500gJusuacLABORATOIRERROPOSNATUREUCUGRLDEC.[uacoJiJHH4E04e+raaly'Mp\"0pr-nJinecon780103pour'Pnz\n",
      "HQ List: ['ES400%N', 'le10036pu', 'S[0an', '{I0ti', 'ei4Wz', 'nr00%@', '500gJ', 'HH4E0', 'p\"0pr', 'on780103po']\n"
     ]
    }
   ],
   "source": [
    "import re\n",
    "\n",
    "# Given list\n",
    "words = [\"PROPOS'\", 'NATUREJ', 'INGREDIENT MENAGER', 'MULTI-USAGE', 'TERRE dE', 'SOMMIERES', '400% NATUREL', 'Argile', '10036', 'pure', 'et   naturelle', 'Lerre', 'Sommierespreserte des proprietes absorbantes', 'qui permettent', 'nelloyage', 'sec des laches', 'recalcitrantes Sur toutes les surfaces (moquette;', 'tapis; parquel_-', 'Elle', 'est aussi', 'efficace', 'desodoriser', 'linge:', 'Ingredient', 'Bentonite', 'Dosage conseille', 'Sclon usage.', 'S[0an', 'Lunponpacel', 'cetl{ I 0t inunei4', 'Wzouul', 'Rtiu fos;', 'Lnfonr', '00%', '@500 g', 'Jusuac', 'LABORATOIRE RROPOSNATURE', 'UCUGRLDEC . [uacoJi JHH4E 04', 'e+raaly', '\\'Mp\"0pr-nJinecon', '780 103', 'pour', \"'Pnz\"]\n",
    "\n",
    "# 1. Convert the entire list into a single word with no spaces and no commas\n",
    "single_word = ''.join(words).replace(' ', '').replace(',', '')\n",
    "\n",
    "# 2. Detect numbers and extract characters around them\n",
    "hq = []\n",
    "# Regular expression to find numbers with two characters before and after\n",
    "pattern = re.compile(r'(.{2})\\d+(.{2})')\n",
    "\n",
    "matches = pattern.finditer(single_word)\n",
    "\n",
    "for match in matches:\n",
    "    before = match.group(1)\n",
    "    number = match.group(0)[2:-2]  # Extract only the number part\n",
    "    after = match.group(2)\n",
    "    new_word = before + number + after\n",
    "    hq.append(new_word)\n",
    "\n",
    "# Print the results\n",
    "print(\"Single Word:\", single_word)\n",
    "print(\"HQ List:\", hq)\n"
   ]
  },
  {
   "cell_type": "code",
   "execution_count": 16,
   "metadata": {},
   "outputs": [
    {
     "name": "stdout",
     "output_type": "stream",
     "text": [
      "400ES%N, 10036lepu, 0S[an, 0{Iti, 4eiWz, 00nr%@, 500gJ, 40HHE, 0p\"pr, 780103onpo\n"
     ]
    }
   ],
   "source": [
    "def extract_and_format(input_list):\n",
    "    output_list = []\n",
    "    \n",
    "    for item in input_list:\n",
    "        # Extract the numeric part and any following characters\n",
    "        numeric_part = ''.join(filter(str.isdigit, item))\n",
    "        non_numeric_part = ''.join(filter(lambda x: not x.isdigit(), item))\n",
    "        \n",
    "        # Combine the numeric part with the non-numeric part\n",
    "        formatted_string = numeric_part + non_numeric_part\n",
    "        output_list.append(formatted_string)\n",
    "    \n",
    "    return ', '.join(output_list)\n",
    "\n",
    "# Get the formatted output\n",
    "output = extract_and_format(hq)\n",
    "print(output)"
   ]
  },
  {
   "cell_type": "code",
   "execution_count": null,
   "metadata": {},
   "outputs": [],
   "source": [
    "import spacy\n",
    "from spacy.pipeline import EntityRuler\n",
    "import re\n",
    "import ast\n",
    "\n",
    "# Load spaCy model\n",
    "nlp = spacy.load(\"en_core_web_sm\")\n",
    "\n",
    "# Create custom entity ruler\n",
    "ruler = EntityRuler(nlp)\n",
    "\n",
    "# Define patterns for weight, volume, wattage, and voltage\n",
    "patterns = [\n",
    "    {\"label\": \"WEIGHT\", \"pattern\": [{\"LOWER\": {\"REGEX\": \"^[0-9,.]+$\"}}, {\"LOWER\": {\"IN\": [\"g\", \"kg\", \"oz\", \"lbs\", \"gram\", \"grams\", \"kilogram\", \"kilograms\", \"ounce\", \"ounces\", \"pound\", \"pounds\"]}}]},\n",
    "    {\"label\": \"VOLUME\", \"pattern\": [{\"LOWER\": {\"REGEX\": \"^[0-9,.]+$\"}}, {\"LOWER\": {\"IN\": [\"ml\", \"l\", \"oz\", \"fl oz\", \"milliliter\", \"milliliters\", \"liter\", \"liters\", \"ounce\", \"ounces\", \"fluid ounce\", \"fluid ounces\"]}}]},\n",
    "    {\"label\": \"WATTAGE\", \"pattern\": [{\"LOWER\": {\"REGEX\": \"^[0-9,.]+$\"}}, {\"LOWER\": \"w\"}]},\n",
    "    {\"label\": \"VOLTAGE\", \"pattern\": [{\"LOWER\": {\"REGEX\": \"^[0-9,.]+$\"}}, {\"LOWER\": \"v\"}]}\n",
    "]\n",
    "\n",
    "# Add patterns to the ruler\n",
    "ruler.add_patterns(patterns)\n",
    "\n",
    "# Add the ruler to the pipeline\n",
    "nlp.add_pipe(\"entity_ruler\", config={\"overwrite_ents\": True})\n",
    "\n",
    "def extract_entity(text, entity_type):\n",
    "    doc = nlp(text)\n",
    "    for ent in doc.ents:\n",
    "        if ent.label_ == entity_type:\n",
    "            value = re.findall(r'[\\d,.]+', ent.text)[0]\n",
    "            unit = re.findall(r'[a-zA-Z]+', ent.text)[0]\n",
    "            return f\"{float(value.replace(',', ''))} {unit}\"\n",
    "    return None\n",
    "\n",
    "# Read the text snippets and entity types\n",
    "with open('extracted_text.txt', 'r') as f:\n",
    "    text_content = f.read()\n",
    "    text_snippets = ast.literal_eval(text_content)\n",
    "\n",
    "with open('entity_name.txt', 'r') as f:\n",
    "    entity_types = [line.strip() for line in f if line.strip()]\n",
    "\n",
    "# Process each text snippet and extract the relevant entity\n",
    "for text_list, entity_type in zip(text_snippets, entity_types):\n",
    "    text = ' '.join(text_list)  # Join the list of words into a single string\n",
    "    if entity_type == \"item_weight\":\n",
    "        result = extract_entity(text, \"WEIGHT\")\n",
    "    elif entity_type == \"item_volume\":\n",
    "        result = extract_entity(text, \"VOLUME\")\n",
    "    elif entity_type == \"wattage\":\n",
    "        result = extract_entity(text, \"WATTAGE\")\n",
    "    elif entity_type == \"voltage\":\n",
    "        result = extract_entity(text, \"VOLTAGE\")\n",
    "    else:\n",
    "        result = None\n",
    "    \n",
    "    print(f\"Text: {text}\")\n",
    "    print(f\"Entity Type: {entity_type}\")\n",
    "    print(f\"Extracted Value: {result}\")\n",
    "    print()"
   ]
  }
 ],
 "metadata": {
  "kernelspec": {
   "display_name": "Python 3",
   "language": "python",
   "name": "python3"
  },
  "language_info": {
   "codemirror_mode": {
    "name": "ipython",
    "version": 3
   },
   "file_extension": ".py",
   "mimetype": "text/x-python",
   "name": "python",
   "nbconvert_exporter": "python",
   "pygments_lexer": "ipython3",
   "version": "3.12.0"
  }
 },
 "nbformat": 4,
 "nbformat_minor": 2
}
